{
 "cells": [
  {
   "cell_type": "code",
   "execution_count": 4,
   "metadata": {},
   "outputs": [],
   "source": [
    "import cv2\n",
    "from typing import *\n",
    "import numpy as np\n",
    "from insightface.app import FaceAnalysis\n",
    "from face.schemas.Detector import *\n",
    "\n",
    "class InsightFaceClient(Detector):\n",
    "    def __init__(self):\n",
    "        self.model = FaceAnalysis(\"buffalo_l\")\n",
    "        self.model.prepare(ctx_id=0, det_size=(640, 640))\n",
    "    \n",
    "    def detect_faces(self, img) -> List[FacialAreaRegion]:\n",
    "        faces = self.model.get(img)\n",
    "        detected_faces = []\n",
    "\n",
    "        for face in faces:\n",
    "            x1, y1, x2, y2 = map(int, face.bbox)\n",
    "            facial_region = FacialAreaRegion(\n",
    "                x=x1, y=y1, w=x2-x1, h=y2-y1,\n",
    "                left_eye=tuple(map(int, face.kps[0])),\n",
    "                right_eye=tuple(map(int, face.kps[1])),\n",
    "                nose=tuple(map(int, face.kps[2])),\n",
    "                left_mouth=tuple(map(int, face.kps[3])),\n",
    "                right_mouth=tuple(map(int, face.kps[4])),\n",
    "                confidence=float(face.det_score)\n",
    "            )\n",
    "            detected_faces.append(facial_region)\n",
    "\n",
    "        return detected_faces"
   ]
  },
  {
   "cell_type": "code",
   "execution_count": 6,
   "metadata": {},
   "outputs": [
    {
     "name": "stdout",
     "output_type": "stream",
     "text": [
      "Applied providers: ['CPUExecutionProvider'], with options: {'CPUExecutionProvider': {}}\n",
      "find model: C:\\Users\\dinhd/.insightface\\models\\buffalo_l\\1k3d68.onnx landmark_3d_68 ['None', 3, 192, 192] 0.0 1.0\n",
      "Applied providers: ['CPUExecutionProvider'], with options: {'CPUExecutionProvider': {}}\n",
      "find model: C:\\Users\\dinhd/.insightface\\models\\buffalo_l\\2d106det.onnx landmark_2d_106 ['None', 3, 192, 192] 0.0 1.0\n",
      "Applied providers: ['CPUExecutionProvider'], with options: {'CPUExecutionProvider': {}}\n",
      "find model: C:\\Users\\dinhd/.insightface\\models\\buffalo_l\\det_10g.onnx detection [1, 3, '?', '?'] 127.5 128.0\n",
      "Applied providers: ['CPUExecutionProvider'], with options: {'CPUExecutionProvider': {}}\n",
      "find model: C:\\Users\\dinhd/.insightface\\models\\buffalo_l\\genderage.onnx genderage ['None', 3, 96, 96] 0.0 1.0\n",
      "Applied providers: ['CPUExecutionProvider'], with options: {'CPUExecutionProvider': {}}\n",
      "find model: C:\\Users\\dinhd/.insightface\\models\\buffalo_l\\w600k_r50.onnx recognition ['None', 3, 112, 112] 127.5 127.5\n",
      "set det-size: (640, 640)\n"
     ]
    }
   ],
   "source": [
    "insightface_client = InsightFaceClient()"
   ]
  },
  {
   "cell_type": "code",
   "execution_count": 9,
   "metadata": {},
   "outputs": [],
   "source": [
    "img = cv2.imread(\"test2.jpg\")\n",
    "img = cv2.cvtColor(img, cv2.COLOR_BGR2RGB)\n",
    "\n",
    "faces = insightface_client.detect_faces(img)\n",
    "\n",
    "# Vẽ bounding box và các điểm trên ảnh\n",
    "for face in faces:\n",
    "    x1, y1, w, h = face.x, face.y, face.w, face.h\n",
    "    cv2.rectangle(img, (x1, y1), (x1 + w, y1 + h), (255, 0, 0), 2)\n",
    "\n",
    "    keypoints = [face.left_eye, face.right_eye, face.nose, face.left_mouth, face.right_mouth]\n",
    "    colors = [(0, 255, 0), (0, 255, 0), (0, 0, 255), (255, 0, 0), (255, 0, 0)]  # Màu khác nhau\n",
    "\n",
    "    for point, color in zip(keypoints, colors):\n",
    "        cv2.circle(img, point, 5, color, -1)\n",
    "\n",
    "# Hiển thị ảnh\n",
    "cv2.imshow(\"Detected Faces\", cv2.cvtColor(img, cv2.COLOR_RGB2BGR))\n",
    "cv2.waitKey(0)\n",
    "cv2.destroyAllWindows()\n"
   ]
  },
  {
   "cell_type": "code",
   "execution_count": null,
   "metadata": {},
   "outputs": [],
   "source": []
  }
 ],
 "metadata": {
  "kernelspec": {
   "display_name": "face",
   "language": "python",
   "name": "python3"
  },
  "language_info": {
   "codemirror_mode": {
    "name": "ipython",
    "version": 3
   },
   "file_extension": ".py",
   "mimetype": "text/x-python",
   "name": "python",
   "nbconvert_exporter": "python",
   "pygments_lexer": "ipython3",
   "version": "3.12.6"
  }
 },
 "nbformat": 4,
 "nbformat_minor": 2
}
